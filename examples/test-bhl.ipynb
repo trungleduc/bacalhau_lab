{
 "cells": [
  {
   "cell_type": "code",
   "execution_count": null,
   "id": "71eb2ab8-7713-4bb7-9180-cdb5779e9a6d",
   "metadata": {},
   "outputs": [],
   "source": [
    "import deairequest"
   ]
  },
  {
   "cell_type": "code",
   "execution_count": null,
   "id": "2af79295-dbe2-43f9-a635-b3a6b8a11a9a",
   "metadata": {},
   "outputs": [],
   "source": [
    "#foo bar"
   ]
  },
  {
   "cell_type": "code",
   "execution_count": null,
   "id": "2ec55b7a-5983-48f0-b805-a89334e516aa",
   "metadata": {},
   "outputs": [],
   "source": [
    "print('e')"
   ]
  },
  {
   "cell_type": "code",
   "execution_count": 6,
   "id": "d0b2a125-f37f-45ef-a4c3-9d7c9c981412",
   "metadata": {},
   "outputs": [],
   "source": [
    "import requests"
   ]
  },
  {
   "cell_type": "code",
   "execution_count": 7,
   "id": "d6b0fcb2-452a-430f-a5b9-566aeab2c859",
   "metadata": {},
   "outputs": [],
   "source": [
    "ss = requests.get('https://httpbin.org/stream/20', stream=True)"
   ]
  },
  {
   "cell_type": "code",
   "execution_count": 8,
   "id": "c32a7cc2-f412-442a-a2b3-0009d4c82caa",
   "metadata": {},
   "outputs": [],
   "source": [
    "a =  ss.iter_lines()\n"
   ]
  },
  {
   "cell_type": "code",
   "execution_count": 9,
   "id": "81839be5-0f4c-401e-8f66-89f9ab91a5ff",
   "metadata": {},
   "outputs": [
    {
     "data": {
      "text/plain": [
       "<generator object Response.iter_lines at 0x7f73f0124ac0>"
      ]
     },
     "execution_count": 9,
     "metadata": {},
     "output_type": "execute_result"
    }
   ],
   "source": [
    "a"
   ]
  },
  {
   "cell_type": "code",
   "execution_count": 7,
   "id": "48450c1f-77bb-4a58-9d24-d5ed17817235",
   "metadata": {},
   "outputs": [],
   "source": [
    "b = next(a)"
   ]
  },
  {
   "cell_type": "code",
   "execution_count": 8,
   "id": "bb546929-2346-48bc-b11c-559c319d527b",
   "metadata": {},
   "outputs": [
    {
     "data": {
      "text/plain": [
       "'{\"url\": \"https://httpbin.org/stream/20\", \"args\": {}, \"headers\": {\"Host\": \"httpbin.org\", \"X-Amzn-Trace-Id\": \"Root=1-64976cef-6d28373829b49e8e26793854\", \"User-Agent\": \"python-requests/2.31.0\", \"Accept-Encoding\": \"gzip, deflate\", \"Accept\": \"*/*\"}, \"origin\": \"82.66.93.122\", \"id\": 0}'"
      ]
     },
     "execution_count": 8,
     "metadata": {},
     "output_type": "execute_result"
    }
   ],
   "source": [
    "b.decode('utf-8')"
   ]
  },
  {
   "cell_type": "code",
   "execution_count": 9,
   "id": "4c5d1305-f5f9-4b6b-9e00-8f7a81908f53",
   "metadata": {},
   "outputs": [],
   "source": [
    "c = ss.iter_lines()"
   ]
  },
  {
   "cell_type": "code",
   "execution_count": 10,
   "id": "cbf6dc9d-63b8-40ce-952c-ad0fcd7a378c",
   "metadata": {},
   "outputs": [
    {
     "data": {
      "text/plain": [
       "b'{\"url\": \"https://httpbin.org/stream/20\", \"args\": {}, \"headers\": {\"Host\": \"httpbin.org\", \"X-Amzn-Trace-Id\": \"Root=1-64976cef-6d28373829b49e8e26793854\", \"User-Agent\": \"python-requests/2.31.0\", \"Accept-Encoding\": \"gzip, deflate\", \"Accept\": \"*/*\"}, \"origin\": \"82.66.93.122\", \"id\": 1}'"
      ]
     },
     "execution_count": 10,
     "metadata": {},
     "output_type": "execute_result"
    }
   ],
   "source": [
    "next(c)"
   ]
  },
  {
   "cell_type": "code",
   "execution_count": 5,
   "id": "d77d87ca-978f-435e-afb4-91b73a536bfe",
   "metadata": {},
   "outputs": [
    {
     "ename": "StopIteration",
     "evalue": "",
     "output_type": "error",
     "traceback": [
      "\u001b[0;31m---------------------------------------------------------------------------\u001b[0m",
      "\u001b[0;31mStopIteration\u001b[0m                             Traceback (most recent call last)",
      "Cell \u001b[0;32mIn[5], line 1\u001b[0m\n\u001b[0;32m----> 1\u001b[0m \u001b[38;5;28;43mnext\u001b[39;49m\u001b[43m(\u001b[49m\u001b[43mss\u001b[49m\u001b[38;5;241;43m.\u001b[39;49m\u001b[43miter_lines\u001b[49m\u001b[43m(\u001b[49m\u001b[43m)\u001b[49m\u001b[43m)\u001b[49m\n",
      "\u001b[0;31mStopIteration\u001b[0m: "
     ]
    }
   ],
   "source": [
    "next(ss.iter_lines())"
   ]
  },
  {
   "cell_type": "code",
   "execution_count": null,
   "id": "23add5aa-0e69-4c87-a791-f358f0b3680a",
   "metadata": {},
   "outputs": [],
   "source": []
  }
 ],
 "metadata": {
  "kernelspec": {
   "display_name": "Python 3 (ipykernel)",
   "language": "python",
   "name": "python3"
  },
  "language_info": {
   "codemirror_mode": {
    "name": "ipython",
    "version": 3
   },
   "file_extension": ".py",
   "mimetype": "text/x-python",
   "name": "python",
   "nbconvert_exporter": "python",
   "pygments_lexer": "ipython3",
   "version": "3.10.11"
  }
 },
 "nbformat": 4,
 "nbformat_minor": 5
}
